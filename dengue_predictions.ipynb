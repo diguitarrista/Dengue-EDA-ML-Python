{
 "cells": [
  {
   "cell_type": "code",
   "execution_count": null,
   "id": "35be064e-c846-4bed-b060-9369f8f4832d",
   "metadata": {},
   "outputs": [],
   "source": [
    "# Dengue Predictions with Poisson Model, B"
   ]
  },
  {
   "cell_type": "markdown",
   "id": "169810de-15e4-409b-a063-a62a1cf83863",
   "metadata": {},
   "source": [
    "## Introduction\n",
    "This Jupyter notebook embarks on a statistical journey to unravel the complexities of dengue fever predictions. Dengue, a mosquito-borne viral infection, poses significant public health challenges across various tropical and subtropical regions worldwide. Predictive modeling of dengue incidences is crucial for effective disease surveillance and control strategies. This notebook utilizes the Poisson regression model, a popular choice for count data, to predict dengue cases. Given the potential for overdispersion in such data, where variance exceeds the mean, the analysis rigorously tests for this phenomenon using the overdisp function. Understanding overdispersion is vital for ensuring the reliability of predictive models, as it can significantly affect the interpretation of model coefficients and the accuracy of predicted values."
   ]
  },
  {
   "cell_type": "markdown",
   "id": "622b02c4-763b-4ca2-b0b0-023d85f48e26",
   "metadata": {},
   "source": [
    "### Import the libraries"
   ]
  },
  {
   "cell_type": "code",
   "execution_count": 2,
   "id": "155853b0-c6bc-416b-90eb-3e9662d5c9ce",
   "metadata": {},
   "outputs": [],
   "source": [
    "import pandas as pd \n",
    "import numpy as np\n",
    "import matplotlib.pyplot as plt \n",
    "import statsmodels.api as sm \n",
    "from scipy import stats \n",
    "from statsmodels.iolib.summary2 import summary_col\n",
    "import statsmodels.formula.api as smf\n",
    "\n",
    "import warnings\n",
    "warnings.filterwarnings('ignore')"
   ]
  },
  {
   "cell_type": "markdown",
   "id": "a1aab71c-1fe4-42e7-b448-5aaa9e9ded03",
   "metadata": {},
   "source": [
    "### Import the data"
   ]
  },
  {
   "cell_type": "code",
   "execution_count": 3,
   "id": "fc556ae8-1570-4b04-8bc1-dec2abb22fea",
   "metadata": {},
   "outputs": [
    {
     "data": {
      "text/html": [
       "<div>\n",
       "<style scoped>\n",
       "    .dataframe tbody tr th:only-of-type {\n",
       "        vertical-align: middle;\n",
       "    }\n",
       "\n",
       "    .dataframe tbody tr th {\n",
       "        vertical-align: top;\n",
       "    }\n",
       "\n",
       "    .dataframe thead th {\n",
       "        text-align: right;\n",
       "    }\n",
       "</style>\n",
       "<table border=\"1\" class=\"dataframe\">\n",
       "  <thead>\n",
       "    <tr style=\"text-align: right;\">\n",
       "      <th></th>\n",
       "      <th>Unidade da Federação</th>\n",
       "      <th>Taxa de incidência</th>\n",
       "    </tr>\n",
       "  </thead>\n",
       "  <tbody>\n",
       "    <tr>\n",
       "      <th>0</th>\n",
       "      <td>Rondônia</td>\n",
       "      <td>205,03</td>\n",
       "    </tr>\n",
       "    <tr>\n",
       "      <th>1</th>\n",
       "      <td>Acre</td>\n",
       "      <td>306,15</td>\n",
       "    </tr>\n",
       "    <tr>\n",
       "      <th>2</th>\n",
       "      <td>Amazonas</td>\n",
       "      <td>149,54</td>\n",
       "    </tr>\n",
       "    <tr>\n",
       "      <th>3</th>\n",
       "      <td>Roraima</td>\n",
       "      <td>390,40</td>\n",
       "    </tr>\n",
       "    <tr>\n",
       "      <th>4</th>\n",
       "      <td>Pará</td>\n",
       "      <td>205,50</td>\n",
       "    </tr>\n",
       "  </tbody>\n",
       "</table>\n",
       "</div>"
      ],
      "text/plain": [
       "  Unidade da Federação Taxa de incidência\n",
       "0             Rondônia             205,03\n",
       "1                 Acre             306,15\n",
       "2             Amazonas             149,54\n",
       "3              Roraima             390,40\n",
       "4                 Pará             205,50"
      ]
     },
     "execution_count": 3,
     "metadata": {},
     "output_type": "execute_result"
    }
   ],
   "source": [
    "df_dengue = pd.read_csv(\"dengue.txt\", delimiter=';')\n",
    "df_febre = pd.read_csv(\"febre.txt\", delimiter=';' )\n",
    "\n",
    "df_dengue.head()"
   ]
  },
  {
   "cell_type": "code",
   "execution_count": 4,
   "id": "0c664f08-af2f-40d6-8dd5-6e325263c25e",
   "metadata": {},
   "outputs": [
    {
     "data": {
      "text/html": [
       "<div>\n",
       "<style scoped>\n",
       "    .dataframe tbody tr th:only-of-type {\n",
       "        vertical-align: middle;\n",
       "    }\n",
       "\n",
       "    .dataframe tbody tr th {\n",
       "        vertical-align: top;\n",
       "    }\n",
       "\n",
       "    .dataframe thead th {\n",
       "        text-align: right;\n",
       "    }\n",
       "</style>\n",
       "<table border=\"1\" class=\"dataframe\">\n",
       "  <thead>\n",
       "    <tr style=\"text-align: right;\">\n",
       "      <th></th>\n",
       "      <th>Unidade da Federação</th>\n",
       "      <th>Casos confirmados</th>\n",
       "    </tr>\n",
       "  </thead>\n",
       "  <tbody>\n",
       "    <tr>\n",
       "      <th>0</th>\n",
       "      <td>Rondônia</td>\n",
       "      <td>9</td>\n",
       "    </tr>\n",
       "    <tr>\n",
       "      <th>1</th>\n",
       "      <td>Amazonas</td>\n",
       "      <td>17</td>\n",
       "    </tr>\n",
       "    <tr>\n",
       "      <th>2</th>\n",
       "      <td>Roraima</td>\n",
       "      <td>1</td>\n",
       "    </tr>\n",
       "    <tr>\n",
       "      <th>3</th>\n",
       "      <td>Pará</td>\n",
       "      <td>31</td>\n",
       "    </tr>\n",
       "    <tr>\n",
       "      <th>4</th>\n",
       "      <td>Amapá</td>\n",
       "      <td>6</td>\n",
       "    </tr>\n",
       "  </tbody>\n",
       "</table>\n",
       "</div>"
      ],
      "text/plain": [
       "  Unidade da Federação  Casos confirmados\n",
       "0             Rondônia                  9\n",
       "1             Amazonas                 17\n",
       "2              Roraima                  1\n",
       "3                 Pará                 31\n",
       "4                Amapá                  6"
      ]
     },
     "execution_count": 4,
     "metadata": {},
     "output_type": "execute_result"
    }
   ],
   "source": [
    "df_febre.head()"
   ]
  },
  {
   "cell_type": "markdown",
   "id": "8d271e50-f59c-4dd0-8a65-fc8bfcd39829",
   "metadata": {},
   "source": [
    "### Merge the datasets"
   ]
  },
  {
   "cell_type": "code",
   "execution_count": 5,
   "id": "720c208a-95ca-48f0-83cd-151982e836ab",
   "metadata": {},
   "outputs": [
    {
     "data": {
      "text/html": [
       "<div>\n",
       "<style scoped>\n",
       "    .dataframe tbody tr th:only-of-type {\n",
       "        vertical-align: middle;\n",
       "    }\n",
       "\n",
       "    .dataframe tbody tr th {\n",
       "        vertical-align: top;\n",
       "    }\n",
       "\n",
       "    .dataframe thead th {\n",
       "        text-align: right;\n",
       "    }\n",
       "</style>\n",
       "<table border=\"1\" class=\"dataframe\">\n",
       "  <thead>\n",
       "    <tr style=\"text-align: right;\">\n",
       "      <th></th>\n",
       "      <th>Unidade da Federação</th>\n",
       "      <th>taxa</th>\n",
       "      <th>febre</th>\n",
       "    </tr>\n",
       "  </thead>\n",
       "  <tbody>\n",
       "    <tr>\n",
       "      <th>0</th>\n",
       "      <td>Paraná</td>\n",
       "      <td>45.05</td>\n",
       "      <td>1.0</td>\n",
       "    </tr>\n",
       "    <tr>\n",
       "      <th>1</th>\n",
       "      <td>Distrito Federal</td>\n",
       "      <td>55.96</td>\n",
       "      <td>1.0</td>\n",
       "    </tr>\n",
       "    <tr>\n",
       "      <th>2</th>\n",
       "      <td>São Paulo</td>\n",
       "      <td>68.35</td>\n",
       "      <td>39.0</td>\n",
       "    </tr>\n",
       "    <tr>\n",
       "      <th>3</th>\n",
       "      <td>Maranhão</td>\n",
       "      <td>78.97</td>\n",
       "      <td>16.0</td>\n",
       "    </tr>\n",
       "    <tr>\n",
       "      <th>4</th>\n",
       "      <td>Amazonas</td>\n",
       "      <td>149.54</td>\n",
       "      <td>17.0</td>\n",
       "    </tr>\n",
       "  </tbody>\n",
       "</table>\n",
       "</div>"
      ],
      "text/plain": [
       "  Unidade da Federação    taxa  febre\n",
       "0               Paraná   45.05    1.0\n",
       "1     Distrito Federal   55.96    1.0\n",
       "2            São Paulo   68.35   39.0\n",
       "3             Maranhão   78.97   16.0\n",
       "4             Amazonas  149.54   17.0"
      ]
     },
     "execution_count": 5,
     "metadata": {},
     "output_type": "execute_result"
    }
   ],
   "source": [
    "df = pd.merge(df_dengue, df_febre, on=\"Unidade da Federação\")\n",
    "\n",
    "# Organizing the data\n",
    "df['Casos confirmados'] = df['Casos confirmados'].astype(float)\n",
    "df[\"Taxa de incidência\"] = df[\"Taxa de incidência\"].str.replace(',', '.').astype(float)\n",
    "\n",
    "df = df.sort_values(by=\"Taxa de incidência\", ascending=True, ignore_index=True)\n",
    "\n",
    "# Rename columns\n",
    "df.rename(columns={\"Casos confirmados\": \"febre\", \"Taxa de incidência\": \"taxa\"}, inplace=True)\n",
    "\n",
    "df.head()"
   ]
  },
  {
   "cell_type": "code",
   "execution_count": 6,
   "id": "fa8ce59a-99b6-4a81-90fa-7435f5b6e626",
   "metadata": {},
   "outputs": [
    {
     "name": "stdout",
     "output_type": "stream",
     "text": [
      "<class 'pandas.core.frame.DataFrame'>\n",
      "RangeIndex: 24 entries, 0 to 23\n",
      "Data columns (total 3 columns):\n",
      " #   Column                Non-Null Count  Dtype  \n",
      "---  ------                --------------  -----  \n",
      " 0   Unidade da Federação  24 non-null     object \n",
      " 1   taxa                  24 non-null     float64\n",
      " 2   febre                 24 non-null     float64\n",
      "dtypes: float64(2), object(1)\n",
      "memory usage: 708.0+ bytes\n"
     ]
    }
   ],
   "source": [
    "df.info()"
   ]
  },
  {
   "cell_type": "code",
   "execution_count": 7,
   "id": "e847b468-3961-4c3c-8a55-59f3a6811138",
   "metadata": {},
   "outputs": [
    {
     "data": {
      "text/plain": [
       "Unidade da Federação    0\n",
       "taxa                    0\n",
       "febre                   0\n",
       "dtype: int64"
      ]
     },
     "execution_count": 7,
     "metadata": {},
     "output_type": "execute_result"
    }
   ],
   "source": [
    "df.isnull().sum()"
   ]
  },
  {
   "cell_type": "code",
   "execution_count": 8,
   "id": "bd0ea8f2-4303-45f6-874e-4dc52aa6f433",
   "metadata": {},
   "outputs": [
    {
     "data": {
      "text/html": [
       "<div>\n",
       "<style scoped>\n",
       "    .dataframe tbody tr th:only-of-type {\n",
       "        vertical-align: middle;\n",
       "    }\n",
       "\n",
       "    .dataframe tbody tr th {\n",
       "        vertical-align: top;\n",
       "    }\n",
       "\n",
       "    .dataframe thead th {\n",
       "        text-align: right;\n",
       "    }\n",
       "</style>\n",
       "<table border=\"1\" class=\"dataframe\">\n",
       "  <thead>\n",
       "    <tr style=\"text-align: right;\">\n",
       "      <th></th>\n",
       "      <th>taxa</th>\n",
       "      <th>febre</th>\n",
       "    </tr>\n",
       "  </thead>\n",
       "  <tbody>\n",
       "    <tr>\n",
       "      <th>count</th>\n",
       "      <td>24.000000</td>\n",
       "      <td>24.000000</td>\n",
       "    </tr>\n",
       "    <tr>\n",
       "      <th>mean</th>\n",
       "      <td>396.944167</td>\n",
       "      <td>44.291667</td>\n",
       "    </tr>\n",
       "    <tr>\n",
       "      <th>std</th>\n",
       "      <td>318.055990</td>\n",
       "      <td>43.064642</td>\n",
       "    </tr>\n",
       "    <tr>\n",
       "      <th>min</th>\n",
       "      <td>45.050000</td>\n",
       "      <td>1.000000</td>\n",
       "    </tr>\n",
       "    <tr>\n",
       "      <th>25%</th>\n",
       "      <td>193.267500</td>\n",
       "      <td>16.750000</td>\n",
       "    </tr>\n",
       "    <tr>\n",
       "      <th>50%</th>\n",
       "      <td>334.270000</td>\n",
       "      <td>32.500000</td>\n",
       "    </tr>\n",
       "    <tr>\n",
       "      <th>75%</th>\n",
       "      <td>463.242500</td>\n",
       "      <td>62.250000</td>\n",
       "    </tr>\n",
       "    <tr>\n",
       "      <th>max</th>\n",
       "      <td>1100.650000</td>\n",
       "      <td>159.000000</td>\n",
       "    </tr>\n",
       "  </tbody>\n",
       "</table>\n",
       "</div>"
      ],
      "text/plain": [
       "              taxa       febre\n",
       "count    24.000000   24.000000\n",
       "mean    396.944167   44.291667\n",
       "std     318.055990   43.064642\n",
       "min      45.050000    1.000000\n",
       "25%     193.267500   16.750000\n",
       "50%     334.270000   32.500000\n",
       "75%     463.242500   62.250000\n",
       "max    1100.650000  159.000000"
      ]
     },
     "execution_count": 8,
     "metadata": {},
     "output_type": "execute_result"
    }
   ],
   "source": [
    "df.describe()"
   ]
  },
  {
   "cell_type": "markdown",
   "id": "bc04bb11-f0cd-4886-8b9a-445b90bf66e7",
   "metadata": {},
   "source": [
    "### Chart"
   ]
  },
  {
   "cell_type": "code",
   "execution_count": 9,
   "id": "3e0cb6b9-09f1-43f6-895a-b4b780c7eec5",
   "metadata": {},
   "outputs": [
    {
     "data": {
      "image/png": "[encoded data removed]",
      "text/plain": [
       "<Figure size 720x432 with 1 Axes>"
      ]
     },
     "metadata": {},
     "output_type": "display_data"
    }
   ],
   "source": [
    "plt.figure(figsize=(10, 6))\n",
    "plt.scatter(df[\"taxa\"], df[\"febre\"])\n",
    "plt.xlabel(\"Casos confirmados\")\n",
    "plt.ylabel(\"Taxa de incidência\")\n",
    "plt.title(\"Taxa de incidência vs. Casos confirmados\")\n",
    "plt.grid(True)\n",
    "plt.tight_layout()\n",
    "\n",
    "plt.show()"
   ]
  },
  {
   "cell_type": "markdown",
   "id": "3e39fad4-48e8-461f-8bac-f50f08a86b21",
   "metadata": {},
   "source": [
    "### Poisson model estimation"
   ]
  },
  {
   "cell_type": "markdown",
   "id": "f3959667-3725-4809-b8a1-b24af7692563",
   "metadata": {},
   "source": [
    "### CAMERON AND TRIVEDI SUPERDISPERSION TEST (1990)\n",
    "### CAMERON, A. C.; TRIVEDI, P. K. Regression-based tests for overdispersion in the Poisson model. Journal of Econometrics, v. 46, n. 3, p. 347-364, 1990."
   ]
  },
  {
   "cell_type": "code",
   "execution_count": 10,
   "id": "12e8a4b4-072d-4968-822d-e312b030b976",
   "metadata": {},
   "outputs": [
    {
     "data": {
      "text/html": [
       "<table class=\"simpletable\">\n",
       "<caption>Generalized Linear Model Regression Results</caption>\n",
       "<tr>\n",
       "  <th>Dep. Variable:</th>         <td>taxa</td>       <th>  No. Observations:  </th>  <td>    24</td> \n",
       "</tr>\n",
       "<tr>\n",
       "  <th>Model:</th>                  <td>GLM</td>       <th>  Df Residuals:      </th>  <td>    22</td> \n",
       "</tr>\n",
       "<tr>\n",
       "  <th>Model Family:</th>         <td>Poisson</td>     <th>  Df Model:          </th>  <td>     1</td> \n",
       "</tr>\n",
       "<tr>\n",
       "  <th>Link Function:</th>          <td>Log</td>       <th>  Scale:             </th> <td>  1.0000</td>\n",
       "</tr>\n",
       "<tr>\n",
       "  <th>Method:</th>                <td>IRLS</td>       <th>  Log-Likelihood:    </th> <td> -2011.9</td>\n",
       "</tr>\n",
       "<tr>\n",
       "  <th>Date:</th>            <td>Wed, 10 Apr 2024</td> <th>  Deviance:          </th> <td>  3844.4</td>\n",
       "</tr>\n",
       "<tr>\n",
       "  <th>Time:</th>                <td>00:26:10</td>     <th>  Pearson chi2:      </th> <td>4.18e+03</td>\n",
       "</tr>\n",
       "<tr>\n",
       "  <th>No. Iterations:</th>          <td>5</td>        <th>  Pseudo R-squ. (CS):</th>  <td> 1.000</td> \n",
       "</tr>\n",
       "<tr>\n",
       "  <th>Covariance Type:</th>     <td>nonrobust</td>    <th>                     </th>     <td> </td>   \n",
       "</tr>\n",
       "</table>\n",
       "<table class=\"simpletable\">\n",
       "<tr>\n",
       "      <td></td>         <th>coef</th>     <th>std err</th>      <th>z</th>      <th>P>|z|</th>  <th>[0.025</th>    <th>0.975]</th>  \n",
       "</tr>\n",
       "<tr>\n",
       "  <th>Intercept</th> <td>    5.5244</td> <td>    0.016</td> <td>  340.088</td> <td> 0.000</td> <td>    5.493</td> <td>    5.556</td>\n",
       "</tr>\n",
       "<tr>\n",
       "  <th>febre</th>     <td>    0.0086</td> <td>    0.000</td> <td>   43.443</td> <td> 0.000</td> <td>    0.008</td> <td>    0.009</td>\n",
       "</tr>\n",
       "</table>"
      ],
      "text/latex": [
       "\\begin{center}\n",
       "\\begin{tabular}{lclc}\n",
       "\\toprule\n",
       "\\textbf{Dep. Variable:}   &       taxa       & \\textbf{  No. Observations:  } &       24    \\\\\n",
       "\\textbf{Model:}           &       GLM        & \\textbf{  Df Residuals:      } &       22    \\\\\n",
       "\\textbf{Model Family:}    &     Poisson      & \\textbf{  Df Model:          } &        1    \\\\\n",
       "\\textbf{Link Function:}   &       Log        & \\textbf{  Scale:             } &    1.0000   \\\\\n",
       "\\textbf{Method:}          &       IRLS       & \\textbf{  Log-Likelihood:    } &   -2011.9   \\\\\n",
       "\\textbf{Date:}            & Wed, 10 Apr 2024 & \\textbf{  Deviance:          } &    3844.4   \\\\\n",
       "\\textbf{Time:}            &     00:26:10     & \\textbf{  Pearson chi2:      } &  4.18e+03   \\\\\n",
       "\\textbf{No. Iterations:}  &        5         & \\textbf{  Pseudo R-squ. (CS):} &    1.000    \\\\\n",
       "\\textbf{Covariance Type:} &    nonrobust     & \\textbf{                     } &             \\\\\n",
       "\\bottomrule\n",
       "\\end{tabular}\n",
       "\\begin{tabular}{lcccccc}\n",
       "                   & \\textbf{coef} & \\textbf{std err} & \\textbf{z} & \\textbf{P$> |$z$|$} & \\textbf{[0.025} & \\textbf{0.975]}  \\\\\n",
       "\\midrule\n",
       "\\textbf{Intercept} &       5.5244  &        0.016     &   340.088  &         0.000        &        5.493    &        5.556     \\\\\n",
       "\\textbf{febre}     &       0.0086  &        0.000     &    43.443  &         0.000        &        0.008    &        0.009     \\\\\n",
       "\\bottomrule\n",
       "\\end{tabular}\n",
       "%\\caption{Generalized Linear Model Regression Results}\n",
       "\\end{center}"
      ],
      "text/plain": [
       "<class 'statsmodels.iolib.summary.Summary'>\n",
       "\"\"\"\n",
       "                 Generalized Linear Model Regression Results                  \n",
       "==============================================================================\n",
       "Dep. Variable:                   taxa   No. Observations:                   24\n",
       "Model:                            GLM   Df Residuals:                       22\n",
       "Model Family:                 Poisson   Df Model:                            1\n",
       "Link Function:                    Log   Scale:                          1.0000\n",
       "Method:                          IRLS   Log-Likelihood:                -2011.9\n",
       "Date:                Wed, 10 Apr 2024   Deviance:                       3844.4\n",
       "Time:                        00:26:10   Pearson chi2:                 4.18e+03\n",
       "No. Iterations:                     5   Pseudo R-squ. (CS):              1.000\n",
       "Covariance Type:            nonrobust                                         \n",
       "==============================================================================\n",
       "                 coef    std err          z      P>|z|      [0.025      0.975]\n",
       "------------------------------------------------------------------------------\n",
       "Intercept      5.5244      0.016    340.088      0.000       5.493       5.556\n",
       "febre          0.0086      0.000     43.443      0.000       0.008       0.009\n",
       "==============================================================================\n",
       "\"\"\""
      ]
     },
     "execution_count": 10,
     "metadata": {},
     "output_type": "execute_result"
    }
   ],
   "source": [
    "modelo_poisson = smf.glm(formula='taxa ~ febre',\n",
    "                         data=df,\n",
    "                         family=sm.families.Poisson()).fit()\n",
    "\n",
    "# Model parameters\n",
    "modelo_poisson.summary()"
   ]
  },
  {
   "cell_type": "markdown",
   "id": "3aa6e19f-b72b-4d99-916b-b339d1a2fa6a",
   "metadata": {},
   "source": [
    "### Adding the fitted values ​​of the Poisson model (lambda_poisson) to the dataframe:"
   ]
  },
  {
   "cell_type": "code",
   "execution_count": 11,
   "id": "6d3ea1f9-eed0-41dd-98d7-d6eb7e38ae72",
   "metadata": {},
   "outputs": [
    {
     "data": {
      "text/html": [
       "<table class=\"simpletable\">\n",
       "<caption>OLS Regression Results</caption>\n",
       "<tr>\n",
       "  <th>Dep. Variable:</th>          <td>ystar</td>      <th>  R-squared (uncentered):</th>      <td>   0.988</td>\n",
       "</tr>\n",
       "<tr>\n",
       "  <th>Model:</th>                   <td>OLS</td>       <th>  Adj. R-squared (uncentered):</th> <td>   0.987</td>\n",
       "</tr>\n",
       "<tr>\n",
       "  <th>Method:</th>             <td>Least Squares</td>  <th>  F-statistic:       </th>          <td>   1824.</td>\n",
       "</tr>\n",
       "<tr>\n",
       "  <th>Date:</th>             <td>Wed, 10 Apr 2024</td> <th>  Prob (F-statistic):</th>          <td>2.06e-23</td>\n",
       "</tr>\n",
       "<tr>\n",
       "  <th>Time:</th>                 <td>00:26:12</td>     <th>  Log-Likelihood:    </th>          <td> -120.82</td>\n",
       "</tr>\n",
       "<tr>\n",
       "  <th>No. Observations:</th>      <td>    24</td>      <th>  AIC:               </th>          <td>   243.6</td>\n",
       "</tr>\n",
       "<tr>\n",
       "  <th>Df Residuals:</th>          <td>    23</td>      <th>  BIC:               </th>          <td>   244.8</td>\n",
       "</tr>\n",
       "<tr>\n",
       "  <th>Df Model:</th>              <td>     1</td>      <th>                     </th>              <td> </td>   \n",
       "</tr>\n",
       "<tr>\n",
       "  <th>Covariance Type:</th>      <td>nonrobust</td>    <th>                     </th>              <td> </td>   \n",
       "</tr>\n",
       "</table>\n",
       "<table class=\"simpletable\">\n",
       "<tr>\n",
       "         <td></td>           <th>coef</th>     <th>std err</th>      <th>t</th>      <th>P>|t|</th>  <th>[0.025</th>    <th>0.975]</th>  \n",
       "</tr>\n",
       "<tr>\n",
       "  <th>lambda_poisson</th> <td>    0.7562</td> <td>    0.018</td> <td>   42.714</td> <td> 0.000</td> <td>    0.720</td> <td>    0.793</td>\n",
       "</tr>\n",
       "</table>\n",
       "<table class=\"simpletable\">\n",
       "<tr>\n",
       "  <th>Omnibus:</th>       <td> 2.217</td> <th>  Durbin-Watson:     </th> <td>   0.859</td>\n",
       "</tr>\n",
       "<tr>\n",
       "  <th>Prob(Omnibus):</th> <td> 0.330</td> <th>  Jarque-Bera (JB):  </th> <td>   1.710</td>\n",
       "</tr>\n",
       "<tr>\n",
       "  <th>Skew:</th>          <td>-0.492</td> <th>  Prob(JB):          </th> <td>   0.425</td>\n",
       "</tr>\n",
       "<tr>\n",
       "  <th>Kurtosis:</th>      <td> 2.138</td> <th>  Cond. No.          </th> <td>    1.00</td>\n",
       "</tr>\n",
       "</table><br/><br/>Notes:<br/>[1] R² is computed without centering (uncentered) since the model does not contain a constant.<br/>[2] Standard Errors assume that the covariance matrix of the errors is correctly specified."
      ],
      "text/latex": [
       "\\begin{center}\n",
       "\\begin{tabular}{lclc}\n",
       "\\toprule\n",
       "\\textbf{Dep. Variable:}    &      ystar       & \\textbf{  R-squared (uncentered):}      &     0.988   \\\\\n",
       "\\textbf{Model:}            &       OLS        & \\textbf{  Adj. R-squared (uncentered):} &     0.987   \\\\\n",
       "\\textbf{Method:}           &  Least Squares   & \\textbf{  F-statistic:       }          &     1824.   \\\\\n",
       "\\textbf{Date:}             & Wed, 10 Apr 2024 & \\textbf{  Prob (F-statistic):}          &  2.06e-23   \\\\\n",
       "\\textbf{Time:}             &     00:26:12     & \\textbf{  Log-Likelihood:    }          &   -120.82   \\\\\n",
       "\\textbf{No. Observations:} &          24      & \\textbf{  AIC:               }          &     243.6   \\\\\n",
       "\\textbf{Df Residuals:}     &          23      & \\textbf{  BIC:               }          &     244.8   \\\\\n",
       "\\textbf{Df Model:}         &           1      & \\textbf{                     }          &             \\\\\n",
       "\\textbf{Covariance Type:}  &    nonrobust     & \\textbf{                     }          &             \\\\\n",
       "\\bottomrule\n",
       "\\end{tabular}\n",
       "\\begin{tabular}{lcccccc}\n",
       "                         & \\textbf{coef} & \\textbf{std err} & \\textbf{t} & \\textbf{P$> |$t$|$} & \\textbf{[0.025} & \\textbf{0.975]}  \\\\\n",
       "\\midrule\n",
       "\\textbf{lambda\\_poisson} &       0.7562  &        0.018     &    42.714  &         0.000        &        0.720    &        0.793     \\\\\n",
       "\\bottomrule\n",
       "\\end{tabular}\n",
       "\\begin{tabular}{lclc}\n",
       "\\textbf{Omnibus:}       &  2.217 & \\textbf{  Durbin-Watson:     } &    0.859  \\\\\n",
       "\\textbf{Prob(Omnibus):} &  0.330 & \\textbf{  Jarque-Bera (JB):  } &    1.710  \\\\\n",
       "\\textbf{Skew:}          & -0.492 & \\textbf{  Prob(JB):          } &    0.425  \\\\\n",
       "\\textbf{Kurtosis:}      &  2.138 & \\textbf{  Cond. No.          } &     1.00  \\\\\n",
       "\\bottomrule\n",
       "\\end{tabular}\n",
       "%\\caption{OLS Regression Results}\n",
       "\\end{center}\n",
       "\n",
       "Notes: \\newline\n",
       " [1] R² is computed without centering (uncentered) since the model does not contain a constant. \\newline\n",
       " [2] Standard Errors assume that the covariance matrix of the errors is correctly specified."
      ],
      "text/plain": [
       "<class 'statsmodels.iolib.summary.Summary'>\n",
       "\"\"\"\n",
       "                                 OLS Regression Results                                \n",
       "=======================================================================================\n",
       "Dep. Variable:                  ystar   R-squared (uncentered):                   0.988\n",
       "Model:                            OLS   Adj. R-squared (uncentered):              0.987\n",
       "Method:                 Least Squares   F-statistic:                              1824.\n",
       "Date:                Wed, 10 Apr 2024   Prob (F-statistic):                    2.06e-23\n",
       "Time:                        00:26:12   Log-Likelihood:                         -120.82\n",
       "No. Observations:                  24   AIC:                                      243.6\n",
       "Df Residuals:                      23   BIC:                                      244.8\n",
       "Df Model:                           1                                                  \n",
       "Covariance Type:            nonrobust                                                  \n",
       "==================================================================================\n",
       "                     coef    std err          t      P>|t|      [0.025      0.975]\n",
       "----------------------------------------------------------------------------------\n",
       "lambda_poisson     0.7562      0.018     42.714      0.000       0.720       0.793\n",
       "==============================================================================\n",
       "Omnibus:                        2.217   Durbin-Watson:                   0.859\n",
       "Prob(Omnibus):                  0.330   Jarque-Bera (JB):                1.710\n",
       "Skew:                          -0.492   Prob(JB):                        0.425\n",
       "Kurtosis:                       2.138   Cond. No.                         1.00\n",
       "==============================================================================\n",
       "\n",
       "Notes:\n",
       "[1] R² is computed without centering (uncentered) since the model does not contain a constant.\n",
       "[2] Standard Errors assume that the covariance matrix of the errors is correctly specified.\n",
       "\"\"\""
      ]
     },
     "execution_count": 11,
     "metadata": {},
     "output_type": "execute_result"
    }
   ],
   "source": [
    "df['lambda_poisson'] = modelo_poisson.fittedvalues\n",
    "\n",
    "# Creating the new variable Y*:\n",
    "df['ystar'] = (((df['febre'] -df['lambda_poisson'])**2) -df['febre'])/df['lambda_poisson']\n",
    "\n",
    "# Estimating the auxiliary OLS model, without the intercept:\n",
    "modelo_auxiliar = smf.ols(formula='ystar ~ 0 + lambda_poisson',\n",
    "                          data=df).fit()\n",
    "\n",
    "# Parameters of 'modelo_auxiliar'\n",
    "modelo_auxiliar.summary()"
   ]
  },
  {
   "cell_type": "markdown",
   "id": "3bf10ff6-905f-4ecd-944d-9ce088166aac",
   "metadata": {},
   "source": [
    "### 'overdisp' function"
   ]
  },
  {
   "cell_type": "code",
   "execution_count": 11,
   "id": "f2b6de79-5993-4f62-bd21-9d76de2c84c3",
   "metadata": {},
   "outputs": [
    {
     "name": "stdout",
     "output_type": "stream",
     "text": [
      "Estimating model...: \n",
      " GLM\n",
      "                       Results: Ordinary least squares\n",
      "==============================================================================\n",
      "Model:                  OLS              Adj. R-squared (uncentered): 0.191   \n",
      "Dependent Variable:     ystar            AIC:                         341.4182\n",
      "Date:                   2023-10-07 00:30 BIC:                         342.5962\n",
      "No. Observations:       24               Log-Likelihood:              -169.71 \n",
      "Df Model:               1                F-statistic:                 6.684   \n",
      "Df Residuals:           23               Prob (F-statistic):          0.0165  \n",
      "R-squared (uncentered): 0.225            Scale:                       84720.  \n",
      "-----------------------------------------------------------------------------------\n",
      "               Coef.       Std.Err.        t         P>|t|       [0.025      0.975]\n",
      "-----------------------------------------------------------------------------------\n",
      "lmbda          0.3510        0.1358      2.5853      0.0165      0.0701      0.6318\n",
      "------------------------------------------------------------------------------\n",
      "Omnibus:                   22.865           Durbin-Watson:              1.471 \n",
      "Prob(Omnibus):             0.000            Jarque-Bera (JB):           30.588\n",
      "Skew:                      2.097            Prob(JB):                   0.000 \n",
      "Kurtosis:                  6.604            Condition No.:              1     \n",
      "==============================================================================\n",
      "Notes:\n",
      "[1] R² is computed without centering (uncentered) since the\n",
      "model does not contain a constant.\n",
      "[2] Standard Errors assume that the covariance matrix of the errors is\n",
      "correctly specified. \n",
      "\n",
      "==================Result======================== \n",
      "\n",
      "p-value: 0.01654395698501887 \n",
      "\n",
      "Indicates overdispersion at 95% confidence level\n"
     ]
    }
   ],
   "source": [
    "from statstests.tests import overdisp\n",
    "\n",
    "# Direct elaboration of the overdispersion test\n",
    "overdisp(modelo_poisson, df)"
   ]
  },
  {
   "cell_type": "markdown",
   "id": "a5c293dd-0700-46bc-8a0e-ce83b3c3fa5e",
   "metadata": {},
   "source": [
    "### Estimation of the negative binomial model of type NB2"
   ]
  },
  {
   "cell_type": "code",
   "execution_count": 12,
   "id": "9d0052d4-fbea-4664-859d-8a79ca024883",
   "metadata": {},
   "outputs": [
    {
     "data": {
      "text/html": [
       "<table class=\"simpletable\">\n",
       "<caption>Generalized Linear Model Regression Results</caption>\n",
       "<tr>\n",
       "  <th>Dep. Variable:</th>         <td>taxa</td>       <th>  No. Observations:  </th>  <td>    24</td> \n",
       "</tr>\n",
       "<tr>\n",
       "  <th>Model:</th>                  <td>GLM</td>       <th>  Df Residuals:      </th>  <td>    22</td> \n",
       "</tr>\n",
       "<tr>\n",
       "  <th>Model Family:</th>    <td>NegativeBinomial</td> <th>  Df Model:          </th>  <td>     1</td> \n",
       "</tr>\n",
       "<tr>\n",
       "  <th>Link Function:</th>          <td>Log</td>       <th>  Scale:             </th> <td>  1.0000</td>\n",
       "</tr>\n",
       "<tr>\n",
       "  <th>Method:</th>                <td>IRLS</td>       <th>  Log-Likelihood:    </th> <td> -173.03</td>\n",
       "</tr>\n",
       "<tr>\n",
       "  <th>Date:</th>            <td>Wed, 10 Apr 2024</td> <th>  Deviance:          </th> <td>  5.8344</td>\n",
       "</tr>\n",
       "<tr>\n",
       "  <th>Time:</th>                <td>00:26:17</td>     <th>  Pearson chi2:      </th>  <td>  5.90</td> \n",
       "</tr>\n",
       "<tr>\n",
       "  <th>No. Iterations:</th>          <td>5</td>        <th>  Pseudo R-squ. (CS):</th>  <td>0.08254</td>\n",
       "</tr>\n",
       "<tr>\n",
       "  <th>Covariance Type:</th>     <td>nonrobust</td>    <th>                     </th>     <td> </td>   \n",
       "</tr>\n",
       "</table>\n",
       "<table class=\"simpletable\">\n",
       "<tr>\n",
       "      <td></td>         <th>coef</th>     <th>std err</th>      <th>z</th>      <th>P>|z|</th>  <th>[0.025</th>    <th>0.975]</th>  \n",
       "</tr>\n",
       "<tr>\n",
       "  <th>Intercept</th> <td>    5.4402</td> <td>    0.429</td> <td>   12.681</td> <td> 0.000</td> <td>    4.599</td> <td>    6.281</td>\n",
       "</tr>\n",
       "<tr>\n",
       "  <th>febre</th>     <td>    0.0102</td> <td>    0.007</td> <td>    1.459</td> <td> 0.145</td> <td>   -0.004</td> <td>    0.024</td>\n",
       "</tr>\n",
       "</table>"
      ],
      "text/latex": [
       "\\begin{center}\n",
       "\\begin{tabular}{lclc}\n",
       "\\toprule\n",
       "\\textbf{Dep. Variable:}   &       taxa       & \\textbf{  No. Observations:  } &       24    \\\\\n",
       "\\textbf{Model:}           &       GLM        & \\textbf{  Df Residuals:      } &       22    \\\\\n",
       "\\textbf{Model Family:}    & NegativeBinomial & \\textbf{  Df Model:          } &        1    \\\\\n",
       "\\textbf{Link Function:}   &       Log        & \\textbf{  Scale:             } &    1.0000   \\\\\n",
       "\\textbf{Method:}          &       IRLS       & \\textbf{  Log-Likelihood:    } &   -173.03   \\\\\n",
       "\\textbf{Date:}            & Wed, 10 Apr 2024 & \\textbf{  Deviance:          } &    5.8344   \\\\\n",
       "\\textbf{Time:}            &     00:26:17     & \\textbf{  Pearson chi2:      } &     5.90    \\\\\n",
       "\\textbf{No. Iterations:}  &        5         & \\textbf{  Pseudo R-squ. (CS):} &  0.08254    \\\\\n",
       "\\textbf{Covariance Type:} &    nonrobust     & \\textbf{                     } &             \\\\\n",
       "\\bottomrule\n",
       "\\end{tabular}\n",
       "\\begin{tabular}{lcccccc}\n",
       "                   & \\textbf{coef} & \\textbf{std err} & \\textbf{z} & \\textbf{P$> |$z$|$} & \\textbf{[0.025} & \\textbf{0.975]}  \\\\\n",
       "\\midrule\n",
       "\\textbf{Intercept} &       5.4402  &        0.429     &    12.681  &         0.000        &        4.599    &        6.281     \\\\\n",
       "\\textbf{febre}     &       0.0102  &        0.007     &     1.459  &         0.145        &       -0.004    &        0.024     \\\\\n",
       "\\bottomrule\n",
       "\\end{tabular}\n",
       "%\\caption{Generalized Linear Model Regression Results}\n",
       "\\end{center}"
      ],
      "text/plain": [
       "<class 'statsmodels.iolib.summary.Summary'>\n",
       "\"\"\"\n",
       "                 Generalized Linear Model Regression Results                  \n",
       "==============================================================================\n",
       "Dep. Variable:                   taxa   No. Observations:                   24\n",
       "Model:                            GLM   Df Residuals:                       22\n",
       "Model Family:        NegativeBinomial   Df Model:                            1\n",
       "Link Function:                    Log   Scale:                          1.0000\n",
       "Method:                          IRLS   Log-Likelihood:                -173.03\n",
       "Date:                Wed, 10 Apr 2024   Deviance:                       5.8344\n",
       "Time:                        00:26:17   Pearson chi2:                     5.90\n",
       "No. Iterations:                     5   Pseudo R-squ. (CS):            0.08254\n",
       "Covariance Type:            nonrobust                                         \n",
       "==============================================================================\n",
       "                 coef    std err          z      P>|z|      [0.025      0.975]\n",
       "------------------------------------------------------------------------------\n",
       "Intercept      5.4402      0.429     12.681      0.000       4.599       6.281\n",
       "febre          0.0102      0.007      1.459      0.145      -0.004       0.024\n",
       "==============================================================================\n",
       "\"\"\""
      ]
     },
     "execution_count": 12,
     "metadata": {},
     "output_type": "execute_result"
    }
   ],
   "source": [
    "modelo_bneg = smf.glm(formula='taxa ~ febre',\n",
    "                      data=df,\n",
    "                      family=sm.families.NegativeBinomial(alpha=2.0963)).fit()\n",
    "\n",
    "# Model parameters\n",
    "modelo_bneg.summary()"
   ]
  },
  {
   "cell_type": "markdown",
   "id": "af9f3f57-f35d-435e-9fa7-2414a6955402",
   "metadata": {},
   "source": [
    "### Construction of a function to define the optimal 'alpha' ('fi') that generates the maximization of the Log-Likelihood value"
   ]
  },
  {
   "cell_type": "code",
   "execution_count": 13,
   "id": "8d1be66f-cb28-46a8-8e0f-3d7b3fb3c75b",
   "metadata": {},
   "outputs": [
    {
     "data": {
      "text/plain": [
       "<matplotlib.legend.Legend at 0x13389005950>"
      ]
     },
     "execution_count": 13,
     "metadata": {},
     "output_type": "execute_result"
    },
    {
     "data": {
      "image/png": "[encoded data removed]",
      "text/plain": [
       "<Figure size 432x288 with 1 Axes>"
      ]
     },
     "metadata": {},
     "output_type": "display_data"
    }
   ],
   "source": [
    "n_samples = 10000\n",
    "alphas = np.linspace(0, 10, n_samples)\n",
    "llf = np.full(n_samples, fill_value=np.nan)\n",
    "for i, alpha in enumerate(alphas):\n",
    "    try:\n",
    "        model = smf.glm(formula = 'febre ~ taxa',\n",
    "                        data=df,\n",
    "                        family=sm.families.NegativeBinomial(alpha=alpha)).fit()\n",
    "    except:\n",
    "        continue\n",
    "    llf[i] = model.llf\n",
    "alpha_optim = alphas[np.nanargmax(llf)]\n",
    "\n",
    "#Plotagem dos resultados\n",
    "plt.plot(alphas, llf, label='Log-Likelihood', color='dodgerblue')\n",
    "plt.axvline(x=alpha_optim, color='purple',\n",
    "            label=f'alpha: {alpha_optim:0.5f}')\n",
    "plt.legend()"
   ]
  },
  {
   "cell_type": "markdown",
   "id": "973870a7-b5cb-4d4f-a5a8-be9259650687",
   "metadata": {},
   "source": [
    "### Reestimation of the negative binomial model with the 'alpha_optim' parameter"
   ]
  },
  {
   "cell_type": "code",
   "execution_count": 15,
   "id": "38f574a5-b678-49e5-8747-0d9955e88c54",
   "metadata": {},
   "outputs": [
    {
     "data": {
      "text/html": [
       "<table class=\"simpletable\">\n",
       "<caption>Generalized Linear Model Regression Results</caption>\n",
       "<tr>\n",
       "  <th>Dep. Variable:</th>         <td>febre</td>      <th>  No. Observations:  </th>  <td>    24</td> \n",
       "</tr>\n",
       "<tr>\n",
       "  <th>Model:</th>                  <td>GLM</td>       <th>  Df Residuals:      </th>  <td>    22</td> \n",
       "</tr>\n",
       "<tr>\n",
       "  <th>Model Family:</th>    <td>NegativeBinomial</td> <th>  Df Model:          </th>  <td>     1</td> \n",
       "</tr>\n",
       "<tr>\n",
       "  <th>Link Function:</th>          <td>Log</td>       <th>  Scale:             </th> <td>  1.0000</td>\n",
       "</tr>\n",
       "<tr>\n",
       "  <th>Method:</th>                <td>IRLS</td>       <th>  Log-Likelihood:    </th> <td> -111.67</td>\n",
       "</tr>\n",
       "<tr>\n",
       "  <th>Date:</th>            <td>Wed, 10 Apr 2024</td> <th>  Deviance:          </th> <td>  27.053</td>\n",
       "</tr>\n",
       "<tr>\n",
       "  <th>Time:</th>                <td>00:27:26</td>     <th>  Pearson chi2:      </th>  <td>  20.9</td> \n",
       "</tr>\n",
       "<tr>\n",
       "  <th>No. Iterations:</th>          <td>7</td>        <th>  Pseudo R-squ. (CS):</th>  <td>0.2883</td> \n",
       "</tr>\n",
       "<tr>\n",
       "  <th>Covariance Type:</th>     <td>nonrobust</td>    <th>                     </th>     <td> </td>   \n",
       "</tr>\n",
       "</table>\n",
       "<table class=\"simpletable\">\n",
       "<tr>\n",
       "      <td></td>         <th>coef</th>     <th>std err</th>      <th>z</th>      <th>P>|z|</th>  <th>[0.025</th>    <th>0.975]</th>  \n",
       "</tr>\n",
       "<tr>\n",
       "  <th>Intercept</th> <td>    2.9528</td> <td>    0.303</td> <td>    9.750</td> <td> 0.000</td> <td>    2.359</td> <td>    3.546</td>\n",
       "</tr>\n",
       "<tr>\n",
       "  <th>taxa</th>      <td>    0.0018</td> <td>    0.001</td> <td>    2.955</td> <td> 0.003</td> <td>    0.001</td> <td>    0.003</td>\n",
       "</tr>\n",
       "</table>"
      ],
      "text/latex": [
       "\\begin{center}\n",
       "\\begin{tabular}{lclc}\n",
       "\\toprule\n",
       "\\textbf{Dep. Variable:}   &      febre       & \\textbf{  No. Observations:  } &       24    \\\\\n",
       "\\textbf{Model:}           &       GLM        & \\textbf{  Df Residuals:      } &       22    \\\\\n",
       "\\textbf{Model Family:}    & NegativeBinomial & \\textbf{  Df Model:          } &        1    \\\\\n",
       "\\textbf{Link Function:}   &       Log        & \\textbf{  Scale:             } &    1.0000   \\\\\n",
       "\\textbf{Method:}          &       IRLS       & \\textbf{  Log-Likelihood:    } &   -111.67   \\\\\n",
       "\\textbf{Date:}            & Wed, 10 Apr 2024 & \\textbf{  Deviance:          } &    27.053   \\\\\n",
       "\\textbf{Time:}            &     00:27:26     & \\textbf{  Pearson chi2:      } &     20.9    \\\\\n",
       "\\textbf{No. Iterations:}  &        7         & \\textbf{  Pseudo R-squ. (CS):} &   0.2883    \\\\\n",
       "\\textbf{Covariance Type:} &    nonrobust     & \\textbf{                     } &             \\\\\n",
       "\\bottomrule\n",
       "\\end{tabular}\n",
       "\\begin{tabular}{lcccccc}\n",
       "                   & \\textbf{coef} & \\textbf{std err} & \\textbf{z} & \\textbf{P$> |$z$|$} & \\textbf{[0.025} & \\textbf{0.975]}  \\\\\n",
       "\\midrule\n",
       "\\textbf{Intercept} &       2.9528  &        0.303     &     9.750  &         0.000        &        2.359    &        3.546     \\\\\n",
       "\\textbf{taxa}      &       0.0018  &        0.001     &     2.955  &         0.003        &        0.001    &        0.003     \\\\\n",
       "\\bottomrule\n",
       "\\end{tabular}\n",
       "%\\caption{Generalized Linear Model Regression Results}\n",
       "\\end{center}"
      ],
      "text/plain": [
       "<class 'statsmodels.iolib.summary.Summary'>\n",
       "\"\"\"\n",
       "                 Generalized Linear Model Regression Results                  \n",
       "==============================================================================\n",
       "Dep. Variable:                  febre   No. Observations:                   24\n",
       "Model:                            GLM   Df Residuals:                       22\n",
       "Model Family:        NegativeBinomial   Df Model:                            1\n",
       "Link Function:                    Log   Scale:                          1.0000\n",
       "Method:                          IRLS   Log-Likelihood:                -111.67\n",
       "Date:                Wed, 10 Apr 2024   Deviance:                       27.053\n",
       "Time:                        00:27:26   Pearson chi2:                     20.9\n",
       "No. Iterations:                     7   Pseudo R-squ. (CS):             0.2883\n",
       "Covariance Type:            nonrobust                                         \n",
       "==============================================================================\n",
       "                 coef    std err          z      P>|z|      [0.025      0.975]\n",
       "------------------------------------------------------------------------------\n",
       "Intercept      2.9528      0.303      9.750      0.000       2.359       3.546\n",
       "taxa           0.0018      0.001      2.955      0.003       0.001       0.003\n",
       "==============================================================================\n",
       "\"\"\""
      ]
     },
     "execution_count": 15,
     "metadata": {},
     "output_type": "execute_result"
    }
   ],
   "source": [
    "modelo_bneg = smf.glm(formula='febre ~ taxa',\n",
    "                      data=df,\n",
    "                      family=sm.families.NegativeBinomial(alpha=alpha_optim)).fit()\n",
    "\n",
    "# Model parameters\n",
    "modelo_bneg.summary()"
   ]
  },
  {
   "cell_type": "markdown",
   "id": "b0fdec9e-80ff-4e9e-89bf-0ab523f2ac9d",
   "metadata": {},
   "source": [
    "### Comparing Poisson and Negative Binomial Models"
   ]
  },
  {
   "cell_type": "code",
   "execution_count": 16,
   "id": "430ce60c-c5d1-4aad-80e2-37a00ea0f938",
   "metadata": {},
   "outputs": [
    {
     "data": {
      "text/html": [
       "<table class=\"simpletable\">\n",
       "<tr>\n",
       "      <td></td>       <th>Poisson</th>    <th>BNeg</th>   \n",
       "</tr>\n",
       "<tr>\n",
       "  <th>Intercept</th> <td>5.5244***</td> <td>2.9528***</td>\n",
       "</tr>\n",
       "<tr>\n",
       "  <th></th>          <td>(0.0162)</td>  <td>(0.3028)</td> \n",
       "</tr>\n",
       "<tr>\n",
       "  <th>febre</th>     <td>0.0086***</td>     <td></td>     \n",
       "</tr>\n",
       "<tr>\n",
       "  <th></th>          <td>(0.0002)</td>      <td></td>     \n",
       "</tr>\n",
       "<tr>\n",
       "  <th>taxa</th>          <td></td>      <td>0.0018***</td>\n",
       "</tr>\n",
       "<tr>\n",
       "  <th></th>              <td></td>      <td>(0.0006)</td> \n",
       "</tr>\n",
       "<tr>\n",
       "  <th>N</th>            <td>24</td>        <td>24</td>    \n",
       "</tr>\n",
       "<tr>\n",
       "  <th>Log-lik</th>   <td>-2011.90</td>   <td>-111.67</td> \n",
       "</tr>\n",
       "<tr>\n",
       "  <th>Pseudo-R2</th>  <td>1.0000</td>    <td>0.2883</td>  \n",
       "</tr>\n",
       "</table><br/>\n",
       "Standard errors in parentheses.<br/>\n",
       "* p<.1, ** p<.05, ***p<.01"
      ],
      "text/latex": [
       "\\begin{table}\n",
       "\\caption{}\n",
       "\\label{}\n",
       "\\begin{center}\n",
       "\\begin{tabular}{lll}\n",
       "\\hline\n",
       "          & Poisson   & BNeg       \\\\\n",
       "\\hline\n",
       "Intercept & 5.5244*** & 2.9528***  \\\\\n",
       "          & (0.0162)  & (0.3028)   \\\\\n",
       "febre     & 0.0086*** &            \\\\\n",
       "          & (0.0002)  &            \\\\\n",
       "taxa      &           & 0.0018***  \\\\\n",
       "          &           & (0.0006)   \\\\\n",
       "N         & 24        & 24         \\\\\n",
       "Log-lik   & -2011.90  & -111.67    \\\\\n",
       "Pseudo-R2 & 1.0000    & 0.2883     \\\\\n",
       "\\hline\n",
       "\\end{tabular}\n",
       "\\end{center}\n",
       "\\end{table}\n",
       "\\bigskip\n",
       "Standard errors in parentheses. \\newline \n",
       "* p<.1, ** p<.05, ***p<.01"
      ],
      "text/plain": [
       "<class 'statsmodels.iolib.summary2.Summary'>\n",
       "\"\"\"\n",
       "\n",
       "=============================\n",
       "           Poisson     BNeg  \n",
       "-----------------------------\n",
       "Intercept 5.5244*** 2.9528***\n",
       "          (0.0162)  (0.3028) \n",
       "febre     0.0086***          \n",
       "          (0.0002)           \n",
       "taxa                0.0018***\n",
       "                    (0.0006) \n",
       "N         24        24       \n",
       "Log-lik   -2011.90  -111.67  \n",
       "Pseudo-R2 1.0000    0.2883   \n",
       "=============================\n",
       "Standard errors in\n",
       "parentheses.\n",
       "* p<.1, ** p<.05, ***p<.01\n",
       "\"\"\""
      ]
     },
     "execution_count": 16,
     "metadata": {},
     "output_type": "execute_result"
    }
   ],
   "source": [
    "summary_col([modelo_poisson, modelo_bneg], \n",
    "            model_names=[\"Poisson\",\"BNeg\"],\n",
    "            stars=True,\n",
    "            info_dict = {\n",
    "                'N':lambda x: \"{0:d}\".format(int(x.nobs)),\n",
    "                'Log-lik':lambda x: \"{:.2f}\".format(x.llf),\n",
    "                'Pseudo-R2':lambda x: \"{:.4f}\".format(x.pseudo_rsquared()),\n",
    "        })"
   ]
  },
  {
   "cell_type": "markdown",
   "id": "72dc22c6-9955-4b47-857b-5a320e64ae87",
   "metadata": {},
   "source": [
    "### Likelihood ratio test to compare LL's between models"
   ]
  },
  {
   "cell_type": "code",
   "execution_count": 17,
   "id": "d67b921f-b75b-4e3b-b411-2ade5bf8773a",
   "metadata": {},
   "outputs": [
    {
     "data": {
      "text/plain": [
       "(3800.46, 0.0)"
      ]
     },
     "execution_count": 17,
     "metadata": {},
     "output_type": "execute_result"
    }
   ],
   "source": [
    "# Definition of the 'lrtest' function\n",
    "def lrtest(modelos):\n",
    "    modelo_1 = modelos[0]\n",
    "    llk_1 = modelo_1.llnull\n",
    "    llk_2 = modelo_1.llf\n",
    "    \n",
    "    if len(modelos)>1:\n",
    "        llk_1 = modelo_1.llf\n",
    "        llk_2 = modelos[1].llf\n",
    "    LR_statistic = -2*(llk_1-llk_2)\n",
    "    p_val = stats.chi2.sf(LR_statistic, 1)\n",
    "    return round(LR_statistic,2), round(p_val,2)\n",
    "\n",
    "lrtest([modelo_poisson, modelo_bneg])"
   ]
  },
  {
   "cell_type": "markdown",
   "id": "4a50c044-9910-446b-bc62-f012a48db00d",
   "metadata": {},
   "source": [
    "### Chart for comparing the LL of the Poisson and negative binomial models"
   ]
  },
  {
   "cell_type": "code",
   "execution_count": 18,
   "id": "4e7e3d49-724f-40a1-adf9-93b7b16dee39",
   "metadata": {},
   "outputs": [
    {
     "data": {
      "text/plain": [
       "Text(0.5, 0, 'Log-Likehood')"
      ]
     },
     "execution_count": 18,
     "metadata": {},
     "output_type": "execute_result"
    },
    {
     "data": {
      "image/png": "[encoded data removed]",
      "text/plain": [
       "<Figure size 1080x720 with 1 Axes>"
      ]
     },
     "metadata": {},
     "output_type": "display_data"
    }
   ],
   "source": [
    "# Definition of the dataframe with the models and respective LL\n",
    "df_llf = pd.DataFrame({'modelo':['Poisson','BNeg'],\n",
    "                      'loglik':[modelo_poisson.llf, modelo_bneg.llf]})\n",
    "df_llf\n",
    "\n",
    "# Plotagem propriamente dita\n",
    "fig, ax = plt.subplots(figsize=(15,10))\n",
    "\n",
    "c = ['#440154FF', '#22A884FF']\n",
    "\n",
    "ax1 = ax.barh(df_llf.modelo, df_llf.loglik, color = c)\n",
    "ax.bar_label(ax1, label_type='center', color='gray', fontsize=24)\n",
    "ax.set_ylabel(\"Estimação\", fontsize=20)\n",
    "ax.set_xlabel(\"Log-Likehood\", fontsize=20)"
   ]
  },
  {
   "cell_type": "markdown",
   "id": "599eaf21-429c-4046-9066-2a6221872a73",
   "metadata": {},
   "source": [
    "## Conclusion\n",
    "\n",
    "In conclusion, the analysis performed in this notebook provides critical insights into the predictive modeling of dengue fever cases. \n",
    "Through the application of the Poisson regression model and the subsequent overdispersion test, the study highlights the complexities \n",
    "involved in accurately predicting disease incidences. Identifying overdispersion and addressing it ensures that the predictive model \n",
    "is robust and reliable, enhancing its utility for public health officials in planning and intervention efforts. Future research may explore\n",
    "alternative models or methods to manage overdispersion and improve prediction accuracy, ultimately contributing to more effective dengue control\n",
    "and prevention strategies."
   ]
  }
 ],
 "metadata": {
  "kernelspec": {
   "display_name": "Python 3 (Spyder)",
   "language": "python3",
   "name": "python3"
  },
  "language_info": {
   "codemirror_mode": {
    "name": "ipython",
    "version": 3
   },
   "file_extension": ".py",
   "mimetype": "text/x-python",
   "name": "python",
   "nbconvert_exporter": "python",
   "pygments_lexer": "ipython3",
   "version": "3.11.8"
  }
 },
 "nbformat": 4,
 "nbformat_minor": 5
}
